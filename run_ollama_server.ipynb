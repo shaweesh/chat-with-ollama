{
  "cells": [
    {
      "cell_type": "code",
      "execution_count": null,
      "metadata": {
        "colab": {
          "base_uri": "https://localhost:8080/"
        },
        "id": "kEcDInFvNAr0",
        "outputId": "60e1ac15-0c06-4da6-92d0-4e63d4af717f"
      },
      "outputs": [],
      "source": [
        "!curl https://ollama.ai/install.sh | sh"
      ]
    },
    {
      "cell_type": "code",
      "execution_count": 3,
      "metadata": {
        "id": "9bmz88Xwkt_O"
      },
      "outputs": [],
      "source": [
        "ollama_model_id = \"gemma2:9b-instruct-q5_0\"\n",
        "# !pkill -f ollama"
      ]
    },
    {
      "cell_type": "code",
      "execution_count": null,
      "metadata": {
        "colab": {
          "base_uri": "https://localhost:8080/"
        },
        "id": "WzKxAim5kz5u",
        "outputId": "e59429a4-a0b1-4682-a29b-3757afd519d4"
      },
      "outputs": [],
      "source": [
        "!nohup bash -c \"OLLAMA_HOST=0.0.0.0:8000 OLLAMA_ORIGIN=* ollama serve\" &\n",
        "!sleep 5 && tail /content/nohup.out"
      ]
    },
    {
      "cell_type": "code",
      "execution_count": null,
      "metadata": {
        "colab": {
          "base_uri": "https://localhost:8080/"
        },
        "id": "5cYUWSdflw6w",
        "outputId": "d558d01e-1e8d-4392-e50b-6c622c8cbd63"
      },
      "outputs": [],
      "source": [
        "!OLLAMA_HOST=0.0.0.0:8000 OLLAMA_ORIGIN=* ollama pull {ollama_model_id}"
      ]
    },
    {
      "cell_type": "code",
      "execution_count": null,
      "metadata": {
        "colab": {
          "base_uri": "https://localhost:8080/"
        },
        "id": "Bmk6k5ZamNv4",
        "outputId": "f7cc95f4-6181-4ae8-9f92-2d17e781ffa6"
      },
      "outputs": [],
      "source": [
        "!nohup bash -c \"OLLAMA_HOST=0.0.0.0:8000 OLLAMA_ORIGIN=* ollama run {ollama_model_id}\"  &\n",
        "!sleep 5 && tail /content/nohup.out"
      ]
    },
    {
      "cell_type": "code",
      "execution_count": null,
      "metadata": {
        "colab": {
          "base_uri": "https://localhost:8080/"
        },
        "id": "Q5uaHnX9nYtn",
        "outputId": "dd55beaa-3d8b-47cd-bfa2-f39f1f75af7f"
      },
      "outputs": [],
      "source": [
        "%%bash\n",
        "curl http://localhost:8000/api/chat -d '{\n",
        "  \"model\": \"gemma2:9b-instruct-q5_0\",\n",
        "  \"stream\": false,\n",
        "  \"messages\": [\n",
        "    { \"role\": \"user\", \"content\": \"ما عاصمة مصر؟\" }\n",
        "  ]\n",
        "}'"
      ]
    },
    {
      "cell_type": "markdown",
      "metadata": {
        "id": "Z1zDTz_kocK9"
      },
      "source": [
        "## **Ngrok**"
      ]
    },
    {
      "cell_type": "code",
      "execution_count": null,
      "metadata": {
        "colab": {
          "base_uri": "https://localhost:8080/"
        },
        "id": "w2cAJDNkNoWE",
        "outputId": "964b2444-1389-4d7a-a4c0-aae304cf50d0"
      },
      "outputs": [],
      "source": [
        "!pip install pyngrok==7.2.0"
      ]
    },
    {
      "cell_type": "code",
      "execution_count": null,
      "metadata": {
        "colab": {
          "base_uri": "https://localhost:8080/"
        },
        "id": "7-ed7sLMoe2k",
        "outputId": "2d1ed6a1-5ce9-47aa-80a1-e3c99e463bc6"
      },
      "outputs": [],
      "source": [
        "from google.colab import userdata\n",
        "from pyngrok import ngrok, conf\n",
        "\n",
        "ngrok_auth = userdata.get('colab-ngrok')\n",
        "\n",
        "conf.get_default().auth_token = ngrok_auth\n",
        "\n",
        "port = \"8000\"\n",
        "\n",
        "public_url = ngrok.connect(port).public_url\n",
        "print(public_url)"
      ]
    },
    {
      "cell_type": "code",
      "execution_count": null,
      "metadata": {
        "colab": {
          "base_uri": "https://localhost:8080/"
        },
        "id": "6KTyx1vwydg7",
        "outputId": "25600354-1b6c-4cfe-8e9e-4fbba9116b88"
      },
      "outputs": [],
      "source": [
        "%%bash\n",
        "curl https://your-ngrok-url/api/chat -d '{\n",
        "  \"model\": \"gemma2:9b-instruct-q5_0\",\n",
        "  \"stream\": false,\n",
        "  \"messages\": [\n",
        "    { \"role\": \"user\", \"content\": \"ما عاصمة مصر؟\" }\n",
        "  ]\n",
        "}'"
      ]
    }
  ],
  "metadata": {
    "accelerator": "GPU",
    "colab": {
      "gpuType": "T4",
      "provenance": []
    },
    "kernelspec": {
      "display_name": "Python 3",
      "name": "python3"
    },
    "language_info": {
      "name": "python"
    }
  },
  "nbformat": 4,
  "nbformat_minor": 0
}
